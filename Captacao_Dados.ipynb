{
  "nbformat": 4,
  "nbformat_minor": 0,
  "metadata": {
    "colab": {
      "name": "Captacao_Dados.ipynb",
      "provenance": [],
      "authorship_tag": "ABX9TyPnWQyiHKM/yITFHLnb3bih",
      "include_colab_link": true
    },
    "kernelspec": {
      "name": "python3",
      "display_name": "Python 3"
    }
  },
  "cells": [
    {
      "cell_type": "markdown",
      "metadata": {
        "id": "view-in-github",
        "colab_type": "text"
      },
      "source": [
        "<a href=\"https://colab.research.google.com/github/lucasmantini/TCC/blob/master/Captacao_Dados.ipynb\" target=\"_parent\"><img src=\"https://colab.research.google.com/assets/colab-badge.svg\" alt=\"Open In Colab\"/></a>"
      ]
    },
    {
      "cell_type": "code",
      "metadata": {
        "id": "Uq_y5ofLs-mV",
        "colab_type": "code",
        "colab": {}
      },
      "source": [
        "import tweepy"
      ],
      "execution_count": null,
      "outputs": []
    },
    {
      "cell_type": "code",
      "metadata": {
        "id": "O-zHeK6UtI3q",
        "colab_type": "code",
        "colab": {
          "base_uri": "https://localhost:8080/",
          "height": 595
        },
        "outputId": "b9ddd071-bbb3-4555-f7fa-72c9405a7349"
      },
      "source": [
        "help(tweepy)"
      ],
      "execution_count": null,
      "outputs": [
        {
          "output_type": "stream",
          "text": [
            "Help on package tweepy:\n",
            "\n",
            "NAME\n",
            "    tweepy - Tweepy Twitter API library\n",
            "\n",
            "PACKAGE CONTENTS\n",
            "    api\n",
            "    auth\n",
            "    binder\n",
            "    cache\n",
            "    cursor\n",
            "    error\n",
            "    models\n",
            "    parsers\n",
            "    streaming\n",
            "    utils\n",
            "\n",
            "FUNCTIONS\n",
            "    debug(enable=True, level=1)\n",
            "\n",
            "DATA\n",
            "    __license__ = 'MIT'\n",
            "    api = <tweepy.api.API object>\n",
            "\n",
            "VERSION\n",
            "    3.6.0\n",
            "\n",
            "AUTHOR\n",
            "    Joshua Roesslein\n",
            "\n",
            "FILE\n",
            "    /usr/local/lib/python3.6/dist-packages/tweepy/__init__.py\n",
            "\n",
            "\n"
          ],
          "name": "stdout"
        }
      ]
    },
    {
      "cell_type": "code",
      "metadata": {
        "id": "qcIZR0reu6uw",
        "colab_type": "code",
        "colab": {}
      },
      "source": [
        "# Pegando a consulta por parâmetro\n",
        "consulta = []\n",
        " \n",
        "#Autenticações\n",
        "consumer_key = ''\n",
        "consumer_secret = ''\n",
        "access_token = ''\n",
        "access_token_secret = ''\n",
        " \n",
        "auth = tweepy.OAuthHandler(consumer_key, consumer_secret)\n",
        "auth.set_access_token(access_token, access_token_secret)\n",
        "api = tweepy.API(auth)\n",
        " \n",
        "#Coletando tweets\n",
        "class CustomStreamListener(tweepy.StreamListener):\n",
        " \n",
        "  def on_status(self, tweet):\n",
        "    #Quando receber algum status, esta função pode manipular o objeto tweet. Exemplos:\n",
        "    print tweet.author.screen_name\n",
        "    print tweet.text.encode('utf-8')\n",
        "    api.create_favorite(tweet.id)\n",
        " \n",
        "    return True\n",
        " \n",
        "  def on_error(self, status_code):\n",
        "      print \"Erro com o código:\", status_code\n",
        "      return True # Não mata o coletor\n",
        " \n",
        "  def on_timeout(self):\n",
        "      print \"Tempo esgotado!\"\n",
        "      return True # Não mata o coletor\n",
        " \n",
        "#Criando o coletor com timeout de 60 seg\n",
        "streaming_api = tweepy.streaming.Stream(auth, CustomStreamListener(), timeout=60)\n",
        "streaming_api.filter(follow=None, track=consulta, languages=[\"pt\"])"
      ],
      "execution_count": null,
      "outputs": []
    }
  ]
}